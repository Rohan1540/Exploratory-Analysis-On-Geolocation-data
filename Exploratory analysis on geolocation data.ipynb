{
 "cells": [
  {
   "cell_type": "code",
   "execution_count": null,
   "id": "597c3556",
   "metadata": {},
   "outputs": [],
   "source": [
    "import pandas as pd\n",
    "data=pd.read_csv(\"/content/drive/MyDrive/  Exploratory Analysis of Geolocational Data/food_coded.csv\")\n",
    "data"
   ]
  },
  {
   "cell_type": "code",
   "execution_count": null,
   "id": "639dde79",
   "metadata": {},
   "outputs": [],
   "source": [
    "#Data Cleaning\n",
    "data.columns"
   ]
  },
  {
   "cell_type": "code",
   "execution_count": null,
   "id": "3d45890b",
   "metadata": {},
   "outputs": [],
   "source": [
    "column=['cook','eating_out','employment','ethnic_food', 'exercise','fruit_day','income','on_off_campus','pay_meal_out','sports','veggies_day']\n",
    "\n",
    "d=data[column]\n",
    "\n",
    "d"
   ]
  },
  {
   "cell_type": "code",
   "execution_count": null,
   "id": "3d8257f9",
   "metadata": {},
   "outputs": [],
   "source": [
    "import seaborn as sns\n",
    "sns.pairplot(d)"
   ]
  },
  {
   "cell_type": "code",
   "execution_count": null,
   "id": "cac9b57a",
   "metadata": {},
   "outputs": [],
   "source": [
    "import numpy as np  \n",
    "import pandas as pd  \n",
    "import matplotlib.pyplot as plt  \n",
    "% matplotlib inline \n",
    "ax=d.boxplot(figsize=(16,6))\n",
    "ax.set_xticklabels(ax.get_xticklabels(),rotation=30)"
   ]
  },
  {
   "cell_type": "code",
   "execution_count": null,
   "id": "92a75b47",
   "metadata": {},
   "outputs": [],
   "source": [
    "s=d.dropna()"
   ]
  },
  {
   "cell_type": "code",
   "execution_count": null,
   "id": "de08f10c",
   "metadata": {},
   "outputs": [],
   "source": [
    "## for data\n",
    "import numpy as np\n",
    "import pandas as pd\n",
    "## for plotting\n",
    "import matplotlib.pyplot as plt\n",
    "import seaborn as sns\n",
    "## for geospatial\n",
    "import folium\n",
    "import geopy\n",
    "## for machine learning\n",
    "from sklearn import preprocessing, cluster\n",
    "import scipy\n",
    "## for deep learning\n",
    "import minisom\n",
    "\n",
    "f=['cook','income']\n",
    "X = s[f]\n",
    "max_k = 10\n",
    "## iterations\n",
    "distortions = [] \n",
    "for i in range(1, max_k+1):\n",
    "    if len(X) >= i:\n",
    "       model = cluster.KMeans(n_clusters=i, init='k-means++', max_iter=300, n_init=10, random_state=0)\n",
    "       model.fit(X)\n",
    "       distortions.append(model.inertia_)\n",
    "## best k: the lowest derivative\n",
    "k = [i*100 for i in np.diff(distortions,2)].index(min([i*100 for i \n",
    "     in np.diff(distortions,2)]))\n",
    "## plot\n",
    "fig, ax = plt.subplots()\n",
    "ax.plot(range(1, len(distortions)+1), distortions)\n",
    "ax.axvline(k, ls='--', color=\"red\", label=\"k = \"+str(k))\n",
    "ax.set(title='The Elbow Method', xlabel='Number of clusters', \n",
    "       ylabel=\"Distortion\")\n",
    "ax.legend()\n",
    "ax.grid(True)\n",
    "plt.show()"
   ]
  },
  {
   "cell_type": "code",
   "execution_count": null,
   "id": "e44c7af2",
   "metadata": {},
   "outputs": [],
   "source": [
    "from pandas.io.json import json_normalize\n",
    "import folium\n",
    "from geopy.geocoders import Nominatim \n",
    "import requests\n",
    "CLIENT_ID = \"RP315HEGUK331YVFV0GGJYEEGS5DOI35VVVFBYMZ2JQY3AFP\" # your Foursquare ID\n",
    "CLIENT_SECRET = \"G0541YL1TTKLFZUL2J0POLALYFWENMMLTLYMB4IPCOFV5GE3\" # your Foursquare Secret\n",
    "VERSION = '20240315'\n",
    "LIMIT = 10000\n",
    "\n",
    "url = 'https://api.foursquare.com/v2/venues/explore?&client_id={}&client_secret={}&v={}&ll={},{}&radius={}&limit={}'.format(\n",
    "    CLIENT_ID, \n",
    "    CLIENT_SECRET, \n",
    "    VERSION, \n",
    "    17.448372, 78.526957,\n",
    "    30000, \n",
    "    LIMIT)\n",
    "\n",
    "results = requests.get(url).json()\n",
    "\n",
    "results"
   ]
  },
  {
   "cell_type": "code",
   "execution_count": null,
   "id": "b64b376b",
   "metadata": {},
   "outputs": [],
   "source": [
    "venues = results['response']['groups'][0]['items']\n",
    "nearby_venues = json_normalize(venues)\n",
    "\n",
    "nearby_venues"
   ]
  },
  {
   "cell_type": "code",
   "execution_count": null,
   "id": "08129ee6",
   "metadata": {},
   "outputs": [],
   "source": [
    "# Adding two more Columns Restaurant and Others \n",
    "# 1.   Restaurant: Number of Restaurant in the radius of 20 km\n",
    "# 2.   others:Number of Gyms, Parks,etc in the radius of 20 km\n",
    "resta=[]\n",
    "oth=[]\n",
    "for lat,long in zip(nearby_venues['venue.location.lat'],nearby_venues['venue.location.lng']):\n",
    "    url = 'https://api.foursquare.com/v2/venues/explore?&client_id={}&client_secret={}&v={}&ll={},{}&radius={}&limit={}'.format(\n",
    "      CLIENT_ID, \n",
    "      CLIENT_SECRET, \n",
    "      VERSION, \n",
    "      lat,long,\n",
    "      1000, \n",
    "      100)\n",
    "    res = requests.get(url).json()\n",
    "    venue = res['response']['groups'][0]['items']\n",
    "    nearby_venue = json_normalize(venue)\n",
    "    df=nearby_venue['venue.categories']\n",
    "\n",
    "    g=[]\n",
    "    for i in range(0,df.size):\n",
    "      g.append(df[i][0]['icon']['prefix'].find('food'))\n",
    "    co=0\n",
    "    for i in g:\n",
    "      if i>1:\n",
    "        co+=1\n",
    "    resta.append(co)\n",
    "    oth.append(len(g)-co)\n",
    "\n",
    "nearby_venues['restaurant']=resta\n",
    "nearby_venues['others']=oth\n",
    "nearby_venues"
   ]
  },
  {
   "cell_type": "code",
   "execution_count": null,
   "id": "548b9818",
   "metadata": {},
   "outputs": [],
   "source": [
    "lat=nearby_venues['venue.location.lat']\n",
    "long=nearby_venues['venue.location.lng']"
   ]
  },
  {
   "cell_type": "code",
   "execution_count": null,
   "id": "444e5135",
   "metadata": {},
   "outputs": [],
   "source": [
    "!pip install minisom\n",
    "\n",
    "f=['venue.location.lat','venue.location.lng']\n",
    "X = nearby_venues[f]\n",
    "max_k = 10\n",
    "## iterations\n",
    "distortions = [] \n",
    "for i in range(1, max_k+1):\n",
    "    if len(X) >= i:\n",
    "       model = cluster.KMeans(n_clusters=i, init='k-means++', max_iter=300, n_init=10, random_state=0)\n",
    "       model.fit(X)\n",
    "       distortions.append(model.inertia_)\n",
    "## best k: the lowest derivative\n",
    "k = [i*100 for i in np.diff(distortions,2)].index(min([i*100 for i \n",
    "     in np.diff(distortions,2)]))\n",
    "## plot\n",
    "fig, ax = plt.subplots()\n",
    "ax.plot(range(1, len(distortions)+1), distortions)\n",
    "ax.axvline(k, ls='--', color=\"red\", label=\"k = \"+str(k))\n",
    "ax.set(title='The Elbow Method', xlabel='Number of clusters', \n",
    "       ylabel=\"Distortion\")\n",
    "ax.legend()\n",
    "ax.grid(True)\n",
    "plt.show()"
   ]
  },
  {
   "cell_type": "code",
   "execution_count": null,
   "id": "71680f7b",
   "metadata": {},
   "outputs": [],
   "source": [
    "city = \"Hyderabad\"\n",
    "## get location\n",
    "locator = geopy.geocoders.Nominatim(user_agent=\"MyCoder\")\n",
    "location = locator.geocode(city)\n",
    "print(location)\n",
    "## keep latitude and longitude only\n",
    "location = [location.latitude, location.longitude]\n",
    "print(\"[lat, long]:\", location)\n",
    "\n",
    "nearby_venues.head()"
   ]
  },
  {
   "cell_type": "code",
   "execution_count": null,
   "id": "1f973c21",
   "metadata": {},
   "outputs": [],
   "source": [
    "nearby_venues.columns\n",
    "\n",
    "n=nearby_venues.drop(['referralId', 'reasons.count', 'reasons.items', 'venue.id',\n",
    "       'venue.name', \n",
    "       'venue.location.labeledLatLngs', 'venue.location.distance',\n",
    "       'venue.location.cc', \n",
    "       'venue.categories', 'venue.photos.count', 'venue.photos.groups',\n",
    "       'venue.location.crossStreet', 'venue.location.address','venue.location.city',\n",
    "       'venue.location.state', 'venue.location.crossStreet',\n",
    "       'venue.location.neighborhood',\t'venue.venuePage.id',\n",
    "       'venue.location.postalCode','venue.location.country'],axis=1)\n",
    "\n",
    "n.columns"
   ]
  },
  {
   "cell_type": "code",
   "execution_count": null,
   "id": "1ae424e1",
   "metadata": {},
   "outputs": [],
   "source": [
    "n"
   ]
  },
  {
   "cell_type": "code",
   "execution_count": null,
   "id": "cade7c10",
   "metadata": {},
   "outputs": [],
   "source": [
    "## Dropping Nan Values from Dataset\n",
    "\n",
    "n=n.dropna()\n",
    "n = n.rename(columns={'venue.location.lat': 'lat', 'venue.location.lng': 'long'})\n",
    "n"
   ]
  },
  {
   "cell_type": "code",
   "execution_count": null,
   "id": "fa8b6001",
   "metadata": {},
   "outputs": [],
   "source": [
    "###Convert Every Row of Column ***'venue.location.formattedAddress'*** from List to String\n",
    "\n",
    "n['venue.location.formattedAddress']\n",
    "\n",
    "spec_chars = [\"[\",\"]\"]\n",
    "for char in spec_chars:\n",
    "    n['venue.location.formattedAddress'] = n['venue.location.formattedAddress'].astype(str).str.replace(char, ' ')\n",
    "\n",
    "n"
   ]
  },
  {
   "cell_type": "code",
   "execution_count": null,
   "id": "b679d2a4",
   "metadata": {},
   "outputs": [],
   "source": [
    "x, y = \"lat\", \"long\"\n",
    "color = \"restaurant\"\n",
    "size = \"others\"\n",
    "popup = \"venue.location.formattedAddress\"\n",
    "data = n.copy()\n",
    "\n",
    "## create color column\n",
    "lst_colors=[\"red\",\"green\",\"orange\"]\n",
    "lst_elements = sorted(list(n[color].unique()))\n",
    "\n",
    "## create size column (scaled)\n",
    "scaler = preprocessing.MinMaxScaler(feature_range=(3,15))\n",
    "data[\"size\"] = scaler.fit_transform(\n",
    "               data[size].values.reshape(-1,1)).reshape(-1)\n",
    "\n",
    "## initialize the map with the starting location\n",
    "map_ = folium.Map(location=location, tiles=\"cartodbpositron\",\n",
    "                  zoom_start=11)\n",
    "## add points\n",
    "data.apply(lambda row: folium.CircleMarker(\n",
    "           location=[row[x],row[y]],popup=row[popup],\n",
    "           radius=row[\"size\"]).add_to(map_), axis=1)\n",
    "## add html legend\n",
    "\n",
    "\n",
    "## plot the map\n",
    "map_"
   ]
  }
 ],
 "metadata": {
  "kernelspec": {
   "display_name": "Python 3 (ipykernel)",
   "language": "python",
   "name": "python3"
  },
  "language_info": {
   "codemirror_mode": {
    "name": "ipython",
    "version": 3
   },
   "file_extension": ".py",
   "mimetype": "text/x-python",
   "name": "python",
   "nbconvert_exporter": "python",
   "pygments_lexer": "ipython3",
   "version": "3.11.3"
  }
 },
 "nbformat": 4,
 "nbformat_minor": 5
}
